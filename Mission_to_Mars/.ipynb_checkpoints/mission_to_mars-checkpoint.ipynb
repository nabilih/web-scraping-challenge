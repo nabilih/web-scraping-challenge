{
 "cells": [
  {
   "cell_type": "code",
   "execution_count": 1,
   "metadata": {},
   "outputs": [],
   "source": [
    "from bs4 import BeautifulSoup as bs\n",
    "import requests\n",
    "from splinter import Browser\n",
    "import pandas as pd"
   ]
  },
  {
   "cell_type": "markdown",
   "metadata": {},
   "source": [
    "## Scrape the NASA Mars News Site and collect the latest News Title and Paragraph Text. \n",
    "## Assign the text to variables that you can reference later."
   ]
  },
  {
   "cell_type": "code",
   "execution_count": 3,
   "metadata": {},
   "outputs": [],
   "source": [
    "# URL of Mars news site\n",
    "url = 'https://mars.nasa.gov/news'\n",
    "\n",
    "executable_path = {'executable_path': 'chromedriver.exe'}\n",
    "browser = Browser('chrome', **executable_path, headless=True)\n",
    "\n",
    "browser.visit(url)\n",
    "html = browser.html\n",
    "soup = bs(html, 'html.parser')\n",
    "\n",
    "#print(soup.prettify())"
   ]
  },
  {
   "cell_type": "code",
   "execution_count": 4,
   "metadata": {},
   "outputs": [
    {
     "name": "stdout",
     "output_type": "stream",
     "text": [
      "Title: How NASA's Perseverance Mars Team Adjusted to Work in the Time of Coronavirus\n",
      "----------------------------------\n",
      "Like much of the rest of the world, the Mars rover team is pushing forward with its mission-critical work while putting the health and safety of their colleagues and community first.\n"
     ]
    }
   ],
   "source": [
    "try:\n",
    "    title = soup.find_all('div', class_='content_title')[1].text\n",
    "    paragraph= soup.find_all('div', class_='article_teaser_body')[0].text\n",
    "\n",
    "except AttributeError as e:\n",
    "    print(e)\n",
    "\n",
    "print('Title: ' + title.strip())\n",
    "print('----------------------------------')\n",
    "print(paragraph)"
   ]
  },
  {
   "cell_type": "markdown",
   "metadata": {},
   "source": [
    "## Use splinter to navigate the site and find the image url for the current Featured Mars Image and assign the url string to a variable called "
   ]
  },
  {
   "cell_type": "code",
   "execution_count": 20,
   "metadata": {},
   "outputs": [
    {
     "name": "stdout",
     "output_type": "stream",
     "text": [
      "featured_image_url = https://www.jpl.nasa.gov/spaceimages/images/mediumsize/PIA11591_ip.jpg\n"
     ]
    }
   ],
   "source": [
    "url = 'https://www.jpl.nasa.gov/spaceimages/?search=&category=Mars'\n",
    "\n",
    "executable_path = {'executable_path': 'chromedriver.exe'}\n",
    "browser = Browser('chrome', **executable_path, headless=True)\n",
    "\n",
    "browser.visit(url)\n",
    "html = browser.html\n",
    "soup = bs(html, 'html.parser')\n",
    "\n",
    "try:\n",
    "    url = soup.find_all('div', class_='carousel_items')[0].a.get('data-fancybox-href')\n",
    "    \n",
    "except AttributeError as e:\n",
    "    print(e)\n",
    "    \n",
    "featured_image_url = \"https://www.jpl.nasa.gov\" + url\n",
    "\n",
    "print(f'featured_image_url = {featured_image_url}')"
   ]
  },
  {
   "cell_type": "markdown",
   "metadata": {},
   "source": [
    "## Visit the Mars Weather twitter account here and scrape the latest Mars weather tweet from the page. \n",
    "## Save the tweet text for the weather report as a variable called mars_weather."
   ]
  },
  {
   "cell_type": "code",
   "execution_count": 64,
   "metadata": {},
   "outputs": [
    {
     "name": "stdout",
     "output_type": "stream",
     "text": [
      "mars_weather = InSight sol 501 (2020-04-24) low -93.5ºC (-136.2ºF) high -4.3ºC (24.3ºF)\n",
      "winds from the SW at 5.0 m/s (11.3 mph) gusting to 15.8 m/s (35.3 mph)\n",
      "pressure at 6.70 hPapic.twitter.com/Xdbw8T0T0E\n"
     ]
    }
   ],
   "source": [
    "url= 'https://twitter.com/marswxreport?lang=en'\n",
    "\n",
    "response = requests.get(url)\n",
    "soup = bs(response.text, 'html.parser')\n",
    "\n",
    "try:\n",
    "    mars_weather = soup.find_all('div', class_='js-tweet-text-container')[0].p.text\n",
    "    \n",
    "except AttributeError as e:\n",
    "    print(e)\n",
    "    \n",
    "print(f'mars_weather = {mars_weather}')    "
   ]
  },
  {
   "cell_type": "markdown",
   "metadata": {},
   "source": [
    "## Mars Facts\n",
    "## Visit the Mars Facts webpage here and use Pandas to scrape the table containing facts about the planet including Diameter, Mass, etc.\n",
    "## Use Pandas to convert the data to a HTML table string."
   ]
  },
  {
   "cell_type": "code",
   "execution_count": 30,
   "metadata": {},
   "outputs": [],
   "source": [
    "url = 'https://space-facts.com/mars/'\n",
    "facts = pd.read_html(url)[0]\n",
    "facts = facts.rename(columns={0:'Property', 1: 'value'})\n",
    "facts = facts.set_index('Property')\n",
    "\n",
    "facts_html = facts.to_html()\n"
   ]
  },
  {
   "cell_type": "code",
   "execution_count": 31,
   "metadata": {},
   "outputs": [
    {
     "name": "stdout",
     "output_type": "stream",
     "text": [
      "<table border=\"1\" class=\"dataframe\">\n",
      "  <thead>\n",
      "    <tr style=\"text-align: right;\">\n",
      "      <th></th>\n",
      "      <th>value</th>\n",
      "    </tr>\n",
      "    <tr>\n",
      "      <th>Property</th>\n",
      "      <th></th>\n",
      "    </tr>\n",
      "  </thead>\n",
      "  <tbody>\n",
      "    <tr>\n",
      "      <th>Equatorial Diameter:</th>\n",
      "      <td>6,792 km</td>\n",
      "    </tr>\n",
      "    <tr>\n",
      "      <th>Polar Diameter:</th>\n",
      "      <td>6,752 km</td>\n",
      "    </tr>\n",
      "    <tr>\n",
      "      <th>Mass:</th>\n",
      "      <td>6.39 × 10^23 kg (0.11 Earths)</td>\n",
      "    </tr>\n",
      "    <tr>\n",
      "      <th>Moons:</th>\n",
      "      <td>2 (Phobos &amp; Deimos)</td>\n",
      "    </tr>\n",
      "    <tr>\n",
      "      <th>Orbit Distance:</th>\n",
      "      <td>227,943,824 km (1.38 AU)</td>\n",
      "    </tr>\n",
      "    <tr>\n",
      "      <th>Orbit Period:</th>\n",
      "      <td>687 days (1.9 years)</td>\n",
      "    </tr>\n",
      "    <tr>\n",
      "      <th>Surface Temperature:</th>\n",
      "      <td>-87 to -5 °C</td>\n",
      "    </tr>\n",
      "    <tr>\n",
      "      <th>First Record:</th>\n",
      "      <td>2nd millennium BC</td>\n",
      "    </tr>\n",
      "    <tr>\n",
      "      <th>Recorded By:</th>\n",
      "      <td>Egyptian astronomers</td>\n",
      "    </tr>\n",
      "  </tbody>\n",
      "</table>\n"
     ]
    }
   ],
   "source": [
    "print(facts_html)"
   ]
  },
  {
   "cell_type": "markdown",
   "metadata": {},
   "source": [
    "## Mars Hemispheres\n",
    "## Visit the USGS Astrogeology site here to obtain high resolution images for each of Mar's hemispheres.\n",
    "## You will need to click each of the links to the hemispheres in order to find the image url to the full resolution image.\n",
    "## Save both the image url string for the full resolution hemisphere image, and the Hemisphere title containing the hemisphere name. ## Use a Python dictionary to store the data using the keys img_url and title.\n",
    "## Append the dictionary with the image url string and the hemisphere title to a list. This list will contain one dictionary for each hemisphere."
   ]
  },
  {
   "cell_type": "code",
   "execution_count": 32,
   "metadata": {},
   "outputs": [],
   "source": [
    "url= 'https://astrogeology.usgs.gov/search/results?q=hemisphere+enhanced&k1=target&v1=Mars'\n",
    "\n",
    "response = requests.get(url)\n",
    "soup = bs(response.text, 'html.parser')\n",
    "   \n",
    "#print(Hemispheres.prettify())"
   ]
  },
  {
   "cell_type": "code",
   "execution_count": 33,
   "metadata": {},
   "outputs": [
    {
     "data": {
      "text/plain": [
       "[{'title': 'Cerberus Hemispher',\n",
       "  'img_url': '/cache/images/cfa62af2557222a02478f1fcd781d445_cerberus_enhanced.tif_full.jpg'},\n",
       " {'title': 'Schiaparelli Hemispher',\n",
       "  'img_url': '/cache/images/3cdd1cbf5e0813bba925c9030d13b62e_schiaparelli_enhanced.tif_full.jpg'},\n",
       " {'title': 'Syrtis Major Hemispher',\n",
       "  'img_url': '/cache/images/ae209b4e408bb6c3e67b6af38168cf28_syrtis_major_enhanced.tif_full.jpg'},\n",
       " {'title': 'Valles Marineris Hemispher',\n",
       "  'img_url': '/cache/images/7cf2da4bf549ed01c17f206327be4db7_valles_marineris_enhanced.tif_full.jpg'}]"
      ]
     },
     "execution_count": 33,
     "metadata": {},
     "output_type": "execute_result"
    }
   ],
   "source": [
    "base_url = 'https://astrogeology.usgs.gov'\n",
    "\n",
    "full_image_list=[]\n",
    "\n",
    "i=1\n",
    "\n",
    "try:\n",
    "    Hemispheres = soup.find_all('a', class_='itemLink product-item')\n",
    "    \n",
    "    for i in range(4):\n",
    "        \n",
    "        # Store title of image\n",
    "        title = Hemispheres[i].text.strip('Enhanced ')\n",
    "        # get the image url on the main page and append to the base url for a complete url reference\n",
    "        image_url = base_url + Hemispheres[i]['href']\n",
    "        \n",
    "        # Open the full resolution image page\n",
    "        browser.visit(image_url)\n",
    "        html = browser.html\n",
    "        soup = bs( html, 'html.parser')\n",
    "    \n",
    "        # find the full resolution image\n",
    "        full_resolution_url = soup.find('img', class_='wide-image')['src']\n",
    "\n",
    "        # Append the information in a list of dictionaries \n",
    "        full_image_list.append({'title' : title, 'img_url' : base_url + full_resolution_url})  \n",
    "         \n",
    "except AttributeError as e:\n",
    "    print(e)\n",
    "    \n",
    "full_image_list\n",
    " "
   ]
  },
  {
   "cell_type": "code",
   "execution_count": null,
   "metadata": {},
   "outputs": [],
   "source": []
  },
  {
   "cell_type": "code",
   "execution_count": null,
   "metadata": {},
   "outputs": [],
   "source": []
  }
 ],
 "metadata": {
  "kernelspec": {
   "display_name": "Python 3",
   "language": "python",
   "name": "python3"
  },
  "language_info": {
   "codemirror_mode": {
    "name": "ipython",
    "version": 3
   },
   "file_extension": ".py",
   "mimetype": "text/x-python",
   "name": "python",
   "nbconvert_exporter": "python",
   "pygments_lexer": "ipython3",
   "version": "3.7.4"
  }
 },
 "nbformat": 4,
 "nbformat_minor": 4
}
